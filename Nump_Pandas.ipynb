{
  "cells": [
    {
      "cell_type": "markdown",
      "id": "96443564",
      "metadata": {
        "id": "96443564"
      },
      "source": [
        "#### 1. Импортируйте пакет numpy под именем `np` (★☆☆)\n"
      ]
    },
    {
      "cell_type": "code",
      "execution_count": null,
      "id": "ffe1047e",
      "metadata": {
        "id": "ffe1047e"
      },
      "outputs": [],
      "source": [
        "import numpy as np"
      ]
    },
    {
      "cell_type": "markdown",
      "id": "572c1bdb",
      "metadata": {
        "id": "572c1bdb"
      },
      "source": [
        "#### 2. Создайте нулевой вектор размера 10 (★☆☆)\n"
      ]
    },
    {
      "cell_type": "code",
      "execution_count": null,
      "id": "31c9f6a5",
      "metadata": {
        "colab": {
          "base_uri": "https://localhost:8080/"
        },
        "id": "31c9f6a5",
        "outputId": "a54b77e6-588f-4d56-ec11-62dab86c5eb7"
      },
      "outputs": [
        {
          "data": {
            "text/plain": [
              "array([0., 0., 0., 0., 0., 0., 0., 0., 0., 0.])"
            ]
          },
          "execution_count": 7,
          "metadata": {},
          "output_type": "execute_result"
        }
      ],
      "source": [
        "np.zeros(10)"
      ]
    },
    {
      "cell_type": "markdown",
      "id": "337e6e36",
      "metadata": {
        "id": "337e6e36"
      },
      "source": [
        "#### 3. Как узнать объем памяти любого массива (★☆☆)\n"
      ]
    },
    {
      "cell_type": "code",
      "execution_count": null,
      "id": "31e8ec2e",
      "metadata": {
        "colab": {
          "base_uri": "https://localhost:8080/"
        },
        "id": "31e8ec2e",
        "outputId": "83368d87-12ad-486f-cd79-28d9fca02f72"
      },
      "outputs": [
        {
          "name": "stdout",
          "output_type": "stream",
          "text": [
            "Размер массива 184\n"
          ]
        }
      ],
      "source": [
        "import sys\n",
        "\n",
        "arr = np.arange(1,10)\n",
        "#sys.getsizeof(arr)\n",
        "\n",
        "print(\"Размер массива:\",sys.getsizeof(arr))"
      ]
    },
    {
      "cell_type": "markdown",
      "id": "cfc46304",
      "metadata": {
        "id": "cfc46304"
      },
      "source": [
        "#### 4. Создайте вектор со значениями от 10 до 49. (★☆☆)\n"
      ]
    },
    {
      "cell_type": "code",
      "execution_count": null,
      "id": "d8b86640",
      "metadata": {
        "colab": {
          "base_uri": "https://localhost:8080/"
        },
        "id": "d8b86640",
        "outputId": "230de3cf-b3d4-4832-c0a6-7517566b3167"
      },
      "outputs": [
        {
          "data": {
            "text/plain": [
              "array([10, 11, 12, 13, 14, 15, 16, 17, 18, 19, 20, 21, 22, 23, 24, 25, 26,\n",
              "       27, 28, 29, 30, 31, 32, 33, 34, 35, 36, 37, 38, 39, 40, 41, 42, 43,\n",
              "       44, 45, 46, 47, 48, 49])"
            ]
          },
          "execution_count": 32,
          "metadata": {},
          "output_type": "execute_result"
        }
      ],
      "source": [
        "arr = np.arange(10, 50)\n",
        "arr"
      ]
    },
    {
      "cell_type": "markdown",
      "id": "0cc200be",
      "metadata": {
        "id": "0cc200be"
      },
      "source": [
        "#### 5. Создайте обратный вектор из вектора в задании 4 (первый элемент становится последним) (★☆☆)\n"
      ]
    },
    {
      "cell_type": "code",
      "execution_count": null,
      "id": "ec044bb5",
      "metadata": {
        "colab": {
          "base_uri": "https://localhost:8080/"
        },
        "id": "ec044bb5",
        "outputId": "f2d72d9e-d33f-43fb-feb8-645c596c7ed7"
      },
      "outputs": [
        {
          "name": "stdout",
          "output_type": "stream",
          "text": [
            "Первый вариант [49 48 47 46 45 44 43 42 41 40 39 38 37 36 35 34 33 32 31 30 29 28 27 26\n",
            " 25 24 23 22 21 20 19 18 17 16 15 14 13 12 11 10]\n",
            "Второй вариант [49 48 47 46 45 44 43 42 41 40 39 38 37 36 35 34 33 32 31 30 29 28 27 26\n",
            " 25 24 23 22 21 20 19 18 17 16 15 14 13 12 11 10]\n"
          ]
        }
      ],
      "source": [
        "arr = np.arange(10, 50)\n",
        "\n",
        "rev_vec1 = np.flip(arr)\n",
        "print(\"Первый вариант\",rev_vec1)\n",
        "\n",
        "rev_vec2 = vec[::-1]\n",
        "print(\"Второй вариант\",rev_vec2)"
      ]
    },
    {
      "cell_type": "markdown",
      "id": "29d9ede4",
      "metadata": {
        "id": "29d9ede4"
      },
      "source": [
        "#### 6. Создайте матрицу 3x3 со значениями от 0 до 8. (★☆☆)\n"
      ]
    },
    {
      "cell_type": "code",
      "execution_count": null,
      "id": "d9e39043",
      "metadata": {
        "colab": {
          "base_uri": "https://localhost:8080/"
        },
        "id": "d9e39043",
        "outputId": "f071933e-411f-4a8b-dc83-66eb7ac85bb2"
      },
      "outputs": [
        {
          "name": "stdout",
          "output_type": "stream",
          "text": [
            "Первый вариант:\n",
            "[[0 1 2]\n",
            " [3 4 5]\n",
            " [6 7 8]]\n",
            "Тип данных: float64\n",
            "Второй вариант\n",
            "[[0. 1. 2.]\n",
            " [3. 4. 5.]\n",
            " [6. 7. 8.]]\n",
            "Тип данных: float64\n"
          ]
        }
      ],
      "source": [
        "matr1 = np.arange(9).reshape(3, 3)\n",
        "print(\"Первый вариант:\")\n",
        "print(matr1)\n",
        "#print(\"Тип данных:\", matr2.dtype)\n",
        "\n",
        "matr2 = np.zeros((3,3))\n",
        "matr2 += np.arange(9).reshape(3,3)\n",
        "print(\"Второй вариант\")\n",
        "print(matr2)\n",
        "#print(\"Тип данных:\", matr2.dtype)"
      ]
    },
    {
      "cell_type": "markdown",
      "id": "88905ceb",
      "metadata": {
        "id": "88905ceb"
      },
      "source": [
        "#### 7. Найти индексы ненулевых элементов из [1,2,0,0,4,0 (★☆☆)\n"
      ]
    },
    {
      "cell_type": "code",
      "execution_count": null,
      "id": "b2f3c90a",
      "metadata": {
        "colab": {
          "base_uri": "https://localhost:8080/"
        },
        "id": "b2f3c90a",
        "outputId": "250f79a4-8e6d-4155-e460-ed3a2532493f"
      },
      "outputs": [
        {
          "name": "stdout",
          "output_type": "stream",
          "text": [
            "Индексы ненулевых элементов: (array([0, 1, 4]),)\n"
          ]
        }
      ],
      "source": [
        "arr = np.array([1, 2, 0, 0, 4, 0])\n",
        "nonzero = np.nonzero(arr)\n",
        "\n",
        "nonzero"
      ]
    },
    {
      "cell_type": "markdown",
      "id": "e15c249a",
      "metadata": {
        "id": "e15c249a"
      },
      "source": [
        "#### 8. Создайте массив 3x3x3 со случайными значениями (★☆☆)\n"
      ]
    },
    {
      "cell_type": "code",
      "execution_count": null,
      "id": "ab21ed50",
      "metadata": {
        "colab": {
          "base_uri": "https://localhost:8080/"
        },
        "id": "ab21ed50",
        "outputId": "e2bc1fab-6d8c-4fb3-caa5-2548bd32e181"
      },
      "outputs": [
        {
          "data": {
            "text/plain": [
              "array([[[0.59685313, 0.40729512, 0.18171183],\n",
              "        [0.98604764, 0.68128005, 0.86211374],\n",
              "        [0.70052304, 0.11186871, 0.98547002]],\n",
              "\n",
              "       [[0.02868028, 0.00589984, 0.06755788],\n",
              "        [0.43471774, 0.46868849, 0.81885362],\n",
              "        [0.69457159, 0.5744587 , 0.50558805]],\n",
              "\n",
              "       [[0.92709912, 0.79970999, 0.53231004],\n",
              "        [0.21315543, 0.87999467, 0.9585069 ],\n",
              "        [0.06182656, 0.32887903, 0.29826541]]])"
            ]
          },
          "execution_count": 36,
          "metadata": {},
          "output_type": "execute_result"
        }
      ],
      "source": [
        "arr = np.random.rand(3, 3, 3)\n",
        "arr"
      ]
    },
    {
      "cell_type": "markdown",
      "id": "157a129c",
      "metadata": {
        "id": "157a129c"
      },
      "source": [
        "#### 9. Создайте массив 10x10 со случайными значениями и найдите минимальное и максимальное значения. (★☆☆)\n"
      ]
    },
    {
      "cell_type": "code",
      "execution_count": null,
      "id": "c0066de5",
      "metadata": {
        "colab": {
          "base_uri": "https://localhost:8080/"
        },
        "id": "c0066de5",
        "outputId": "89975840-86e1-4a91-e332-507b77586fbd"
      },
      "outputs": [
        {
          "name": "stdout",
          "output_type": "stream",
          "text": [
            "Минимум: 0.015697638801423608\n",
            "Максимум: 0.9977974865380609\n",
            "[[0.17686102 0.0737962  0.46689583 0.6329146  0.33741357 0.22819197\n",
            "  0.68250662 0.91775194 0.44405271 0.74820721]\n",
            " [0.20133229 0.10345441 0.96124295 0.09504992 0.32216095 0.61858728\n",
            "  0.78357813 0.74950523 0.96572353 0.33559598]\n",
            " [0.68501331 0.15769672 0.39020512 0.7429556  0.63547106 0.81512429\n",
            "  0.87841262 0.33996451 0.83798722 0.86725963]\n",
            " [0.26244597 0.75436701 0.28039519 0.22038643 0.42674716 0.09784834\n",
            "  0.42967669 0.78033692 0.31606077 0.54975651]\n",
            " [0.75890062 0.1515657  0.36120284 0.66890881 0.72401092 0.65236792\n",
            "  0.66163822 0.21060012 0.34212443 0.57129843]\n",
            " [0.59042622 0.96985503 0.19301691 0.2386159  0.73925012 0.36227444\n",
            "  0.49993357 0.3887088  0.78526855 0.8620317 ]\n",
            " [0.60833264 0.63337949 0.10149792 0.94051004 0.99779749 0.31741955\n",
            "  0.26862461 0.27224367 0.93286237 0.303196  ]\n",
            " [0.98001256 0.78900929 0.85546719 0.90126827 0.53317311 0.79130594\n",
            "  0.39859676 0.01569764 0.97345158 0.36785006]\n",
            " [0.60546921 0.44988823 0.60951226 0.80493782 0.49929345 0.74722424\n",
            "  0.54611314 0.91274078 0.29563751 0.39810345]\n",
            " [0.91775887 0.85858658 0.84381258 0.55546677 0.39266399 0.73201749\n",
            "  0.11931273 0.3914522  0.06781062 0.78038792]]\n"
          ]
        }
      ],
      "source": [
        "arr = np.random.rand(10,10)\n",
        "#print(\"Массив\", arr)\n",
        "\n",
        "min = np.min(arr)\n",
        "print(\"Минимум:\", min)\n",
        "\n",
        "max = np.max(arr)\n",
        "print(\"Максимум:\", max)\n",
        "\n",
        "print(arr)"
      ]
    },
    {
      "cell_type": "markdown",
      "id": "d92d7b32",
      "metadata": {
        "id": "d92d7b32"
      },
      "source": [
        "#### 10. Создайте случайный вектор размера 30 и найдите среднее значение(★☆☆)\n"
      ]
    },
    {
      "cell_type": "code",
      "execution_count": null,
      "id": "9672d023",
      "metadata": {
        "colab": {
          "base_uri": "https://localhost:8080/"
        },
        "id": "9672d023",
        "outputId": "90bda4e9-03cd-45d4-a5f3-85a274d2bb25"
      },
      "outputs": [
        {
          "name": "stdout",
          "output_type": "stream",
          "text": [
            "Среднее значение: 21.0\n"
          ]
        }
      ],
      "source": [
        "arr = np.random.randint(30)\n",
        "#print(arr)\n",
        "sr = np.mean(arr)\n",
        "print (\"Среднее значение:\", sr)"
      ]
    },
    {
      "cell_type": "markdown",
      "id": "f361efc0",
      "metadata": {
        "id": "f361efc0"
      },
      "source": [
        "#### 11. Создайте массив 2d 2x3 c 1 на границе и 0 внутри (★☆☆)\n"
      ]
    },
    {
      "cell_type": "code",
      "execution_count": null,
      "id": "a55b6666",
      "metadata": {
        "colab": {
          "base_uri": "https://localhost:8080/"
        },
        "id": "a55b6666",
        "outputId": "16a2d3ea-5b83-422d-c610-b3e59cbe22b7"
      },
      "outputs": [
        {
          "data": {
            "text/plain": [
              "array([[1., 1., 1.],\n",
              "       [1., 1., 1.]])"
            ]
          },
          "execution_count": 63,
          "metadata": {},
          "output_type": "execute_result"
        }
      ],
      "source": [
        "arr = np.ones((2, 3))\n",
        "\n",
        "arr[0, :] = 0\n",
        "arr[-1, :] = 0\n",
        "arr[:, 0] = 1\n",
        "arr[:, -1] = 1\n",
        "\n",
        "print(arr)"
      ]
    },
    {
      "cell_type": "markdown",
      "id": "1af07d85",
      "metadata": {
        "id": "1af07d85"
      },
      "source": [
        "#### 12. Каков результат следующего выражения? (★☆☆)\n",
        "\n",
        "```python\n",
        "0 * np.nan\n",
        "np.nan == np.nan\n",
        "np.inf > np.nan\n",
        "np.nan - np.nan\n",
        "np.nan in set([np.nan])\n",
        "0.3 == 3 * 0.1\n",
        "```\n"
      ]
    },
    {
      "cell_type": "code",
      "execution_count": null,
      "id": "109cf327",
      "metadata": {
        "colab": {
          "base_uri": "https://localhost:8080/"
        },
        "id": "109cf327",
        "outputId": "ce67ecc6-4bed-4507-c64f-80d8d63f9f5d"
      },
      "outputs": [
        {
          "data": {
            "text/plain": [
              "nan"
            ]
          },
          "execution_count": 78,
          "metadata": {},
          "output_type": "execute_result"
        }
      ],
      "source": [
        "np.nan # np.nan - не число\n",
        "False # NaN не равен ни одному значению\n",
        "False # любое стравнение с nun возвращает false\n",
        "NaN # все арифметические операции с nan возвращают nan\n",
        "True # nan пренадлежит множесву nan\n",
        "False # оганичение в точности"
      ]
    },
    {
      "cell_type": "markdown",
      "id": "6431e977",
      "metadata": {
        "id": "6431e977"
      },
      "source": [
        "#### 13. Рассмотрим массив размера (6,7,8). Каков индекс (x,y,z) 100-го элемента? (★☆☆)\n"
      ]
    },
    {
      "cell_type": "code",
      "execution_count": null,
      "id": "de8b0245",
      "metadata": {
        "colab": {
          "base_uri": "https://localhost:8080/"
        },
        "id": "de8b0245",
        "outputId": "ea1f430e-3ce2-4501-b48b-a88bad765cb1"
      },
      "outputs": [
        {
          "name": "stdout",
          "output_type": "stream",
          "text": [
            "Индексы (x, y, z) 100-го элемента: (3, 2, 2)\n"
          ]
        }
      ],
      "source": [
        "arr = (6, 7, 8)\n",
        "\n",
        "# Считаем с 0\n",
        "index = 99\n",
        "\n",
        "x = 99 % arr[0]\n",
        "y = (99 // arr[0] // arr[1])\n",
        "z = 99 // (arr[0]*arr[1])\n",
        "\n",
        "print(\"Индексы (x, y, z) 100-го элемента:\", (x, y, z))"
      ]
    },
    {
      "cell_type": "markdown",
      "id": "06c63bb3",
      "metadata": {
        "id": "06c63bb3"
      },
      "source": [
        "#### 14. Умножить матрицу 5x3 на матрицу 3x2(★☆☆)\n"
      ]
    },
    {
      "cell_type": "code",
      "execution_count": null,
      "id": "9fc0d553",
      "metadata": {
        "colab": {
          "base_uri": "https://localhost:8080/"
        },
        "id": "9fc0d553",
        "outputId": "4c8f21cb-d3f3-42c8-a7ed-cc699b100e07"
      },
      "outputs": [
        {
          "data": {
            "text/plain": [
              "array([[1.31531319, 0.42214744],\n",
              "       [1.33792645, 0.61240857],\n",
              "       [1.66828697, 0.60546563],\n",
              "       [1.52990473, 0.5841782 ],\n",
              "       [2.06559829, 0.70713672]])"
            ]
          },
          "execution_count": 83,
          "metadata": {},
          "output_type": "execute_result"
        }
      ],
      "source": [
        "np.dot(np.random.random((5, 3)), np.random.random((3, 2)))"
      ]
    },
    {
      "cell_type": "markdown",
      "id": "76fa6285",
      "metadata": {
        "id": "76fa6285"
      },
      "source": [
        "#### 15. Создайте одномерный массив со случайными значениями от 1 до 10, инвертируйте (поменяйте местами) все элементы, со значениями 3 и 8. (★☆☆)\n"
      ]
    },
    {
      "cell_type": "code",
      "execution_count": null,
      "id": "0e25eca7",
      "metadata": {
        "colab": {
          "base_uri": "https://localhost:8080/"
        },
        "id": "0e25eca7",
        "outputId": "f04179f6-870c-49d6-d0e9-ad6bd7add85a"
      },
      "outputs": [
        {
          "name": "stdout",
          "output_type": "stream",
          "text": [
            "Массив до:    [ 3  5  7  8  1  1  9  2  4 10]\n",
            "Массив после: [ 8  5  7  3  1  1  9  2  4 10]\n"
          ]
        }
      ],
      "source": [
        "arr = np.random.randint(0, 11, size=10)\n",
        "print(\"Массив до:   \", arr)\n",
        "\n",
        "arr = np.where(arr == 3, 8, np.where(arr == 8, 3, arr))\n",
        "\n",
        "print(\"Массив после:\", arr)"
      ]
    },
    {
      "cell_type": "markdown",
      "id": "a6eaf0e8",
      "metadata": {
        "id": "a6eaf0e8"
      },
      "source": [
        "#### 16. Каков результат следующих выражений? (★☆☆)\n",
        "\n",
        "```python\n",
        "np.array(0) / np.array(0)\n",
        "np.array(0) // np.array(0)\n",
        "np.array([np.nan]).astype(int).astype(float)\n",
        "```\n"
      ]
    },
    {
      "cell_type": "code",
      "execution_count": null,
      "id": "xEZBWkIfPdb9",
      "metadata": {
        "colab": {
          "base_uri": "https://localhost:8080/"
        },
        "id": "xEZBWkIfPdb9",
        "outputId": "1016af43-60db-48e8-df62-60427d47ed18"
      },
      "outputs": [
        {
          "name": "stderr",
          "output_type": "stream",
          "text": [
            "<ipython-input-36-ea171f4782f5>:1: RuntimeWarning: invalid value encountered in cast\n",
            "  np.array([np.nan]).astype(int).astype(float)\n"
          ]
        },
        {
          "data": {
            "text/plain": [
              "array([-9.22337204e+18])"
            ]
          },
          "execution_count": 36,
          "metadata": {},
          "output_type": "execute_result"
        }
      ],
      "source": [
        "np.array([np.nan]).astype(int).astype(float)"
      ]
    },
    {
      "cell_type": "code",
      "execution_count": null,
      "id": "93684068",
      "metadata": {
        "colab": {
          "base_uri": "https://localhost:8080/"
        },
        "id": "93684068",
        "outputId": "dd5da9ce-4c0d-4b29-a3e9-3026eab1c531"
      },
      "outputs": [
        {
          "name": "stderr",
          "output_type": "stream",
          "text": [
            "<ipython-input-43-b8092ad32736>:3: RuntimeWarning: invalid value encountered in cast\n",
            "  np.array([np.nan]).astype(int).astype(float)\n"
          ]
        },
        {
          "data": {
            "text/plain": [
              "array([-9.22337204e+18])"
            ]
          },
          "execution_count": 43,
          "metadata": {},
          "output_type": "execute_result"
        }
      ],
      "source": [
        "#nan # деление на 0 передает не опреденный результат\n",
        "0 # целое от неопределенности 0\n",
        "np.array([np.nan]).astype(int).astype(float)  #????????????????????????????????????\n"
      ]
    },
    {
      "cell_type": "markdown",
      "id": "8dc40752",
      "metadata": {
        "id": "8dc40752"
      },
      "source": [
        "#### 17. Как найти общие значения между двумя массивами? (★☆☆)\n"
      ]
    },
    {
      "cell_type": "code",
      "execution_count": null,
      "id": "54399cbe",
      "metadata": {
        "colab": {
          "base_uri": "https://localhost:8080/"
        },
        "id": "54399cbe",
        "outputId": "71e8dd6a-39fe-454e-f347-39ae0373cd6b"
      },
      "outputs": [
        {
          "name": "stdout",
          "output_type": "stream",
          "text": [
            "[0 3 8 4 7]\n",
            "[9 7 6 6 5]\n",
            "Общие значение между двумя массивами: [7]\n"
          ]
        }
      ],
      "source": [
        "arr1 = np.random.randint(0,11, size = 5)\n",
        "arr2 = np.random.randint(0,11, size = 5)\n",
        "\n",
        "arr = np.intersect1d(arr1, arr2)\n",
        "\n",
        "print(arr1)\n",
        "print(arr2)\n",
        "print(\"Общие значение между двумя массивами:\", arr)"
      ]
    },
    {
      "cell_type": "markdown",
      "id": "52667b6e",
      "metadata": {
        "id": "52667b6e"
      },
      "source": [
        "#### 18. Как вычислить ((A+B)\\*(-A/2)) с заменой массива А (без копирования)? (★★☆)\n"
      ]
    },
    {
      "cell_type": "code",
      "execution_count": null,
      "id": "e6e7c030",
      "metadata": {
        "colab": {
          "base_uri": "https://localhost:8080/"
        },
        "id": "e6e7c030",
        "outputId": "399bc037-933e-4282-8ad6-432cfc4eaec2"
      },
      "outputs": [
        {
          "data": {
            "text/plain": [
              "array([-21. ,  -1. , -24. ,   0. , -24.5])"
            ]
          },
          "execution_count": 146,
          "metadata": {},
          "output_type": "execute_result"
        }
      ],
      "source": [
        "A = np.random.randint(8, size=5)\n",
        "B = np.random.randint(5, size=5)\n",
        "A = (A+B)*(-A/2)\n",
        "A"
      ]
    },
    {
      "cell_type": "markdown",
      "id": "cab1eed1",
      "metadata": {
        "id": "cab1eed1"
      },
      "source": [
        "#### 19. Создайте матрицу 5x5 со значениями строк от 0 до 4. (★★☆)\n"
      ]
    },
    {
      "cell_type": "code",
      "execution_count": null,
      "id": "f1b579ba",
      "metadata": {
        "colab": {
          "base_uri": "https://localhost:8080/"
        },
        "id": "f1b579ba",
        "outputId": "0c222ee9-d88b-4db1-9092-b0f7ade30752"
      },
      "outputs": [
        {
          "name": "stdout",
          "output_type": "stream",
          "text": [
            "[[0. 1. 2. 3. 4.]\n",
            " [0. 1. 2. 3. 4.]\n",
            " [0. 1. 2. 3. 4.]\n",
            " [0. 1. 2. 3. 4.]\n",
            " [0. 1. 2. 3. 4.]]\n"
          ]
        }
      ],
      "source": [
        "arr = np.zeros((5, 5))\n",
        "\n",
        "arr[:, 0] = 0\n",
        "arr[:, 1] = 1\n",
        "arr[:, 2] = 2\n",
        "arr[:, 3] = 3\n",
        "arr[:, 4] = 4\n",
        "\n",
        "print(arr)"
      ]
    },
    {
      "cell_type": "markdown",
      "id": "c4c942d1",
      "metadata": {
        "id": "c4c942d1"
      },
      "source": [
        "#### 20. Создайте вектор размера 10 со значениями в диапазоне от 0 до 1, исключая 1 и 0 (★★☆)\n"
      ]
    },
    {
      "cell_type": "code",
      "execution_count": null,
      "id": "e42eaa4b",
      "metadata": {
        "colab": {
          "base_uri": "https://localhost:8080/"
        },
        "id": "e42eaa4b",
        "outputId": "5e97cf54-3f04-4447-c7d4-0b88e567e61d"
      },
      "outputs": [
        {
          "data": {
            "text/plain": [
              "array([0.13565288, 0.34716358, 0.80302552, 0.44542385, 0.80549499,\n",
              "       0.38059344, 0.82398851, 0.48848621, 0.65839844, 0.22154323])"
            ]
          },
          "execution_count": 90,
          "metadata": {},
          "output_type": "execute_result"
        }
      ],
      "source": [
        "arr = np.array(np.random.random(10))\n",
        "arr"
      ]
    },
    {
      "cell_type": "markdown",
      "id": "9b3cb8d2",
      "metadata": {
        "id": "9b3cb8d2"
      },
      "source": [
        "#### 21. Создайте случайный вектор размера 10 и отсортируйте его (★★☆)\n"
      ]
    },
    {
      "cell_type": "code",
      "execution_count": null,
      "id": "37d2b341",
      "metadata": {
        "colab": {
          "base_uri": "https://localhost:8080/"
        },
        "id": "37d2b341",
        "outputId": "2e081ad1-f16d-4743-ebfb-424fde453875"
      },
      "outputs": [
        {
          "name": "stdout",
          "output_type": "stream",
          "text": [
            "[10  1  3  5  8  4  4  0  6 10]\n",
            "[ 0  1  3  4  4  5  6  8 10 10]\n"
          ]
        }
      ],
      "source": [
        "arr1 = np.array(np.random.randint(0, 11, size = 10))\n",
        "#arr1 = np.array(np.random.random(10))\n",
        "print(arr1)\n",
        "\n",
        "arr2 = np.sort(arr1)\n",
        "print(arr2)"
      ]
    },
    {
      "cell_type": "markdown",
      "id": "2facfddc",
      "metadata": {
        "id": "2facfddc"
      },
      "source": [
        "#### 22. Можно ли суммировать небольшой массив быстрее, чем np.sum? (★★☆)\n"
      ]
    },
    {
      "cell_type": "code",
      "execution_count": null,
      "id": "4bb8864f",
      "metadata": {
        "colab": {
          "base_uri": "https://localhost:8080/"
        },
        "id": "4bb8864f",
        "outputId": "deae77a9-bb09-43e8-8462-1c5375194438"
      },
      "outputs": [
        {
          "name": "stdout",
          "output_type": "stream",
          "text": [
            "11\n",
            "CPU times: user 1.12 ms, sys: 0 ns, total: 1.12 ms\n",
            "Wall time: 2.23 ms\n",
            "2\n",
            "CPU times: user 0 ns, sys: 591 µs, total: 591 µs\n",
            "Wall time: 590 µs\n"
          ]
        }
      ],
      "source": [
        "ar2 = np.random.randint(0, 11, size = 3)\n",
        "%time print(sum(ar1)) # результат в ms\n",
        "\n",
        "ar2 = np.random.randint(0, 11, size = 3)\n",
        "%time print(np.sum(ar2)) #результат в µs\n",
        "\n",
        "#нельзя"
      ]
    },
    {
      "cell_type": "markdown",
      "id": "539cd2a5",
      "metadata": {
        "id": "539cd2a5"
      },
      "source": [
        "#### 23. Рассмотрим два случайных массива A и B, проверьте, равны ли они(★★☆)\n"
      ]
    },
    {
      "cell_type": "code",
      "execution_count": null,
      "id": "5246d7bf",
      "metadata": {
        "colab": {
          "base_uri": "https://localhost:8080/"
        },
        "id": "5246d7bf",
        "outputId": "68e36035-77cf-42f3-b54a-632e96222e31"
      },
      "outputs": [
        {
          "name": "stdout",
          "output_type": "stream",
          "text": [
            "Массив arr1:\n",
            "[[5]]\n",
            "Массив arr2:\n",
            "[[0 8]\n",
            " [8 4]]\n",
            "Массивы arr1 и arr2 равны: False\n"
          ]
        }
      ],
      "source": [
        "arr1 = np.random.randint(0, 11, size=(np.random.randint(1, 3, size = 2)))\n",
        "arr2= np.random.randint(0, 11, size=(np.random.randint(1, 3, size = 2)))\n",
        "\n",
        "are_equal = np.array_equal(arr1, arr2)\n",
        "\n",
        "print(\"Массив arr1:\")\n",
        "print(arr1)\n",
        "print(\"Массив arr2:\")\n",
        "print(arr2)\n",
        "print(\"Массивы arr1 и arr2 равны:\", are_equal)"
      ]
    },
    {
      "cell_type": "markdown",
      "id": "a556027a",
      "metadata": {
        "id": "a556027a"
      },
      "source": [
        "#### 24. Создайте случайный вектор размера 10 и замените максимальное значение на 0 (★★☆)\n"
      ]
    },
    {
      "cell_type": "code",
      "execution_count": null,
      "id": "9e07cb87",
      "metadata": {
        "colab": {
          "base_uri": "https://localhost:8080/"
        },
        "id": "9e07cb87",
        "outputId": "68dbb0df-f8b1-4f71-b635-0c645482a377"
      },
      "outputs": [
        {
          "name": "stdout",
          "output_type": "stream",
          "text": [
            "Массив до:    [67  1 80 86 43 28 98 15 62 25]\n",
            "Массив после: [67  1 80 86 43 28  0 15 62 25]\n"
          ]
        }
      ],
      "source": [
        "arr1 = np.random.randint(100, size = 10)\n",
        "print (\"Массив до:   \", arr1)\n",
        "arr2 = np.where(arr1 == np.max(arr1), 0, arr1)\n",
        "print (\"Массив после:\", arr2)"
      ]
    },
    {
      "cell_type": "markdown",
      "id": "c8a2f65a",
      "metadata": {
        "id": "c8a2f65a"
      },
      "source": [
        "#### 25. Распечатайте минимальное и максимальное представимое значение для каждого скалярного типа numpy (★★☆)\n"
      ]
    },
    {
      "cell_type": "code",
      "execution_count": null,
      "id": "35d844d6",
      "metadata": {
        "id": "35d844d6"
      },
      "outputs": [],
      "source": [
        "print(\"Минимальное и максимальное значения для целочисленных типов данных:\")\n",
        "print(\"int8:\", np.iinfo(np.int8).min, np.iinfo(np.int8).max)\n",
        "print(\"int16:\", np.iinfo(np.int16).min, np.iinfo(np.int16).max)\n",
        "print(\"int32:\", np.iinfo(np.int32).min, np.iinfo(np.int32).max)\n",
        "print(\"int64:\", np.iinfo(np.int64).min, np.iinfo(np.int64).max)\n",
        "print(\"uint8:\", np.iinfo(np.uint8).min, np.iinfo(np.uint8).max)\n",
        "print(\"uint16:\", np.iinfo(np.uint16).min, np.iinfo(np.uint16).max)\n",
        "print(\"uint32:\", np.iinfo(np.uint32).min, np.iinfo(np.uint32).max)\n",
        "print(\"uint64:\", np.iinfo(np.uint64).min, np.iinfo(np.uint64).max)\n",
        "\n",
        "print(\"\\nМинимальное и максимальное значения для вещественных типов данных:\")\n",
        "print(\"float16:\", np.finfo(np.float16).min, np.finfo(np.float16).max)\n",
        "print(\"float32:\", np.finfo(np.float32).min, np.finfo(np.float32).max)\n",
        "print(\"float64:\", np.finfo(np.float64).min, np.finfo(np.float64).max)"
      ]
    },
    {
      "cell_type": "markdown",
      "id": "11727a69",
      "metadata": {
        "id": "11727a69"
      },
      "source": [
        "#### 26. Как вывести все значения большого массива? (★★☆)\n"
      ]
    },
    {
      "cell_type": "code",
      "execution_count": null,
      "id": "47e98473",
      "metadata": {
        "id": "47e98473"
      },
      "outputs": [],
      "source": [
        "np.set_printoptions(threshold=1001)\n",
        "print(np.arange(1001))"
      ]
    },
    {
      "cell_type": "markdown",
      "id": "d22b8574",
      "metadata": {
        "id": "d22b8574"
      },
      "source": [
        "#### 27. Рассмотрим случайный вектор формы (100,2), представляющий координаты, найдите расстояния между точками. (★★☆)\n"
      ]
    },
    {
      "cell_type": "code",
      "execution_count": null,
      "id": "d5c9cdf8",
      "metadata": {
        "colab": {
          "base_uri": "https://localhost:8080/"
        },
        "id": "d5c9cdf8",
        "outputId": "c1935575-a72d-4a1c-f06d-8d3e2c417510"
      },
      "outputs": [
        {
          "name": "stdout",
          "output_type": "stream",
          "text": [
            "[[0.         0.53569449 0.52194214 ... 1.02079534 0.49343646 0.64637015]\n",
            " [0.53569449 0.         0.91531629 ... 1.02589355 0.94240565 0.74808143]\n",
            " [0.52194214 0.91531629 0.         ... 0.74463751 0.11596879 0.43411243]\n",
            " ...\n",
            " [1.02079534 1.02589355 0.74463751 ... 0.         0.86030607 0.37616403]\n",
            " [0.49343646 0.94240565 0.11596879 ... 0.86030607 0.         0.54077217]\n",
            " [0.64637015 0.74808143 0.43411243 ... 0.37616403 0.54077217 0.        ]]\n"
          ]
        }
      ],
      "source": [
        "arr1 = np.random.rand(100, 2)\n",
        "x,y = np.atleast_2d(arr1[:,0], arr1[:,1])\n",
        "arr2 =  np.sqrt( (x-x.T)**2 + (y-y.T)**2)\n",
        "print(arr2)"
      ]
    },
    {
      "cell_type": "markdown",
      "id": "f5c164f2",
      "metadata": {
        "id": "f5c164f2"
      },
      "source": [
        "#### 28. Как преобразовать массив с плавающей запятой (32 бита) в целое число (32 бита) с заменой?\n"
      ]
    },
    {
      "cell_type": "code",
      "execution_count": null,
      "id": "ea262de8",
      "metadata": {
        "colab": {
          "base_uri": "https://localhost:8080/"
        },
        "id": "ea262de8",
        "outputId": "7f10c9d0-1796-465f-8526-f1d74938deb2"
      },
      "outputs": [
        {
          "name": "stdout",
          "output_type": "stream",
          "text": [
            "Массив до округления:\n",
            "[0.3381394 2.4962966 9.615875  3.8587346 4.6231465 6.440818  7.487768\n",
            " 1.7264519 6.3248296 2.3629975]\n",
            "Массив после округления:\n",
            "[0 2 9 3 4 6 7 1 6 2]\n"
          ]
        }
      ],
      "source": [
        "arr1 = np.array(np.random.rand(10)*10, dtype=np.float32)\n",
        "print(\"Массив до округления:\")\n",
        "print(arr1)\n",
        "\n",
        "arr2 = arr1.astype(np.int32)\n",
        "print(\"Массив после округления:\")\n",
        "print(arr2)"
      ]
    },
    {
      "cell_type": "markdown",
      "id": "a8b7e6f5",
      "metadata": {
        "id": "a8b7e6f5"
      },
      "source": [
        "#### 29. Создайте массив из следующего файла: (★★☆)\n",
        "\n",
        "```\n",
        "1, 2, 3, 4, 5\n",
        "6,  ,  , 7, 8\n",
        " ,  , 9,10,11\n",
        "```\n"
      ]
    },
    {
      "cell_type": "code",
      "execution_count": null,
      "id": "bde0538a",
      "metadata": {
        "colab": {
          "base_uri": "https://localhost:8080/"
        },
        "id": "bde0538a",
        "outputId": "36f6fded-c520-42d5-b24c-d4bb56f4b023"
      },
      "outputs": [
        {
          "data": {
            "text/plain": [
              "array([[ 1.,  2.,  3.,  4.,  5.],\n",
              "       [ 6., nan, nan,  7.,  8.],\n",
              "       [nan, nan,  9., 10., 11.]])"
            ]
          },
          "execution_count": 169,
          "metadata": {},
          "output_type": "execute_result"
        }
      ],
      "source": [
        "from io import StringIO\n",
        "arr = StringIO(\"\"\"1, 2, 3, 4, 5\\n\n",
        "                6,  ,  , 7, 8\\n\n",
        "                 ,  , 9,10,11\\n\"\"\")\n",
        "\n",
        "np.genfromtxt(arr, delimiter=\",\")"
      ]
    },
    {
      "cell_type": "markdown",
      "id": "bfd2513c",
      "metadata": {
        "id": "bfd2513c"
      },
      "source": [
        "#### 30. Вычтите среднее значение каждой строки случайной матрицы. (★★☆)\n"
      ]
    },
    {
      "cell_type": "code",
      "execution_count": null,
      "id": "f306ab72",
      "metadata": {
        "colab": {
          "base_uri": "https://localhost:8080/"
        },
        "id": "f306ab72",
        "outputId": "1eb4a9cf-591a-405f-96b5-d42ffc2b87a0"
      },
      "outputs": [
        {
          "name": "stdout",
          "output_type": "stream",
          "text": [
            "Матрица до вычитания среднего:\n",
            "[[0.74866423 0.09997086 0.53170091 0.84047426]\n",
            " [0.80023535 0.13810802 0.81712856 0.10994624]\n",
            " [0.58724301 0.92182799 0.48103861 0.2882049 ]\n",
            " [0.56258915 0.22101316 0.05550101 0.04233921]\n",
            " [0.27753046 0.11624513 0.82578137 0.96269711]]\n",
            "Среднее каждой строки -  0.5552025668707457\n",
            "Среднее каждой строки -  0.4663545425862919\n",
            "Среднее каждой строки -  0.5695786271672713\n",
            "Среднее каждой строки -  0.22036063150871066\n",
            "Среднее каждой строки -  0.5455635155922218\n",
            "Матрица до вычитания среднего:\n",
            "[[ 0.19346166 -0.45523171 -0.02350165  0.2852717 ]\n",
            " [ 0.33388081 -0.32824653  0.35077402 -0.3564083 ]\n",
            " [ 0.01766439  0.35224936 -0.08854001 -0.28137373]\n",
            " [ 0.34222852  0.00065253 -0.16485963 -0.17802142]\n",
            " [-0.26803306 -0.42931838  0.28021785  0.41713359]]\n"
          ]
        }
      ],
      "source": [
        "arr = np.random.rand(np.random.randint(1, 7, size = 1)[0],np.random.randint(1, 6, size = 1)[0])\n",
        "print(\"Матрица до вычитания среднего:\")\n",
        "print(arr)\n",
        "\n",
        "for mas in arr:\n",
        "  print(\"Среднее каждой строки - \", mas.mean())\n",
        "  mas -= mas.mean()\n",
        "\n",
        "print(\"Матрица после вычитания среднего:\")\n",
        "print(arr)"
      ]
    },
    {
      "cell_type": "markdown",
      "id": "f30162d2",
      "metadata": {
        "id": "f30162d2"
      },
      "source": [
        "#### 31. Рассмотрим случайный вектор, как добавить 1 к каждому элементу, индексированному вторым вектором (будьте осторожны с повторяющимися индексами)? (★★★)\n"
      ]
    },
    {
      "cell_type": "code",
      "execution_count": null,
      "id": "093ba36f",
      "metadata": {
        "colab": {
          "base_uri": "https://localhost:8080/"
        },
        "id": "093ba36f",
        "outputId": "94f52e88-085b-4961-e83a-6749de4c3ab0"
      },
      "outputs": [
        {
          "name": "stdout",
          "output_type": "stream",
          "text": [
            "Массив до:    [8 8 6 3 2 8 3 1 5 3]\n",
            "Массив после: [9 8 6 3 3 9 3 2 5 3]\n"
          ]
        }
      ],
      "source": [
        "arr1 = np.random.randint(0, 10, size = 10)\n",
        "arr2 = np.random.randint(0, 10, size = 5)\n",
        "print(\"Массив до:   \" ,arr1)\n",
        "#print(arr2)\n",
        "\n",
        "arr2 = np.unique(np.sort(arr2))\n",
        "#print(arr2)\n",
        "\n",
        "i = 0\n",
        "while (i < len(arr2)):\n",
        "  if (arr2[i] <= 9):\n",
        "    arr1[arr2[i]] = arr1[arr2[i]] + 1\n",
        "  i = i + 1\n",
        "print(\"Массив после:\", arr1)"
      ]
    },
    {
      "cell_type": "code",
      "execution_count": null,
      "id": "kQ-iPrK2qOaY",
      "metadata": {
        "colab": {
          "base_uri": "https://localhost:8080/"
        },
        "id": "kQ-iPrK2qOaY",
        "outputId": "a7056012-da16-471d-fba8-30dcfec12499"
      },
      "outputs": [
        {
          "name": "stdout",
          "output_type": "stream",
          "text": [
            "Массив до:    [5 3 4 0 7 4 2 9 6 6]\n",
            "Массив после: [ 5  4  5  0  7  4  2 10  6  7]\n"
          ]
        }
      ],
      "source": [
        "arr1 = np.random.randint(0, 10, size = 10)\n",
        "arr2 = np.random.randint(0, 10, size = 5)\n",
        "print(\"Массив до:   \" ,arr1)\n",
        "#print(arr2)\n",
        "\n",
        "arr2 = np.unique(np.sort(arr2))\n",
        "#print(arr2)\n",
        "\n",
        "j = 0\n",
        "while (j < len(arr2)):\n",
        "  for i in range(len(arr1)):\n",
        "    if (arr2[j] == i):\n",
        "      arr1[i] = arr1[i] + 1\n",
        "  j = j + 1\n",
        "print(\"Массив после:\", arr1)"
      ]
    },
    {
      "cell_type": "markdown",
      "id": "f5b1c584",
      "metadata": {
        "id": "f5b1c584"
      },
      "source": [
        "#### 32. Как перенести элементы вектора (X) в массив (F) на основе списка индексов (I)? (★★★)\n"
      ]
    },
    {
      "cell_type": "code",
      "execution_count": null,
      "id": "c9d92a75",
      "metadata": {
        "colab": {
          "base_uri": "https://localhost:8080/"
        },
        "id": "c9d92a75",
        "outputId": "12fb2d4f-b387-4791-c5f9-39248f7c4aa6"
      },
      "outputs": [
        {
          "name": "stdout",
          "output_type": "stream",
          "text": [
            "[[0 0 0 0 0]\n",
            " [0 0 0 0 0]\n",
            " [0 0 0 0 0]\n",
            " [0 0 0 0 0]\n",
            " [0 0 0 0 0]]\n",
            "[6 1 0 1 4 2 7 2 8 4]\n",
            "[[3 0]\n",
            " [2 2]\n",
            " [2 1]\n",
            " [1 0]\n",
            " [2 0]\n",
            " [2 2]\n",
            " [0 3]\n",
            " [1 3]\n",
            " [1 2]\n",
            " [3 1]]\n",
            "[[0 0 0 7 0]\n",
            " [1 0 8 2 0]\n",
            " [4 0 2 0 0]\n",
            " [6 0 0 0 0]\n",
            " [0 0 0 0 0]]\n"
          ]
        }
      ],
      "source": [
        "x = np.random.randint(0, 10, size = 10)\n",
        "f = np.zeros((5,5), dtype=np.int32)\n",
        "print(f)\n",
        "print(x)\n",
        "l = np.random.randint(0,4, size = (10, 2))\n",
        "print(l)\n",
        "\n",
        "for i in range (9):\n",
        "  f[l[i][0]][l[i][1]]  = x[i]\n",
        "\n",
        "print(f)"
      ]
    },
    {
      "cell_type": "markdown",
      "id": "4bddeb31",
      "metadata": {
        "id": "4bddeb31"
      },
      "source": [
        "#### 33. Рассматривая четырехмерный массив, как получить сумму сразу (в одну операцию) по двум последним осям? (★★★)\n"
      ]
    },
    {
      "cell_type": "code",
      "execution_count": null,
      "id": "32af15f5",
      "metadata": {
        "colab": {
          "base_uri": "https://localhost:8080/"
        },
        "id": "32af15f5",
        "outputId": "28b35273-6e19-40d4-e87e-259ade89e982"
      },
      "outputs": [
        {
          "name": "stdout",
          "output_type": "stream",
          "text": [
            "Сумма по двум последним осям:\n",
            "[[83 88 95]\n",
            " [60 84 67]]\n"
          ]
        }
      ],
      "source": [
        "arr1 = np.random.randint(0, 10, size=(2, 3, 4, 5))\n",
        "\n",
        "arrsum = np.sum(arr1, axis=(-2, -1))\n",
        "\n",
        "print(\"Сумма по двум последним осям:\")\n",
        "print(arrsum)"
      ]
    },
    {
      "cell_type": "markdown",
      "id": "de727a7b",
      "metadata": {
        "id": "de727a7b"
      },
      "source": [
        "#### 34. Рассмотрим вектор [1, 2, 3, 4, 5], как построить новый вектор с 3 последовательными нулями, чередующимися между каждым значением? (★★★)\n"
      ]
    },
    {
      "cell_type": "code",
      "execution_count": null,
      "id": "982be812",
      "metadata": {
        "colab": {
          "base_uri": "https://localhost:8080/"
        },
        "id": "982be812",
        "outputId": "05520e5a-1593-4a67-a499-c6c9c23a0634"
      },
      "outputs": [
        {
          "name": "stdout",
          "output_type": "stream",
          "text": [
            "[1 0 0 0 2 0 0 0 3 0 0 0 4 0 0 0 5]\n"
          ]
        }
      ],
      "source": [
        "arr1 = np.array([1, 2, 3, 4, 5])\n",
        "\n",
        "arr2 = np.insert(arr1,np.repeat(np.arange(1, len(arr1)), 3), 0)\n",
        "\n",
        "print(arr2)"
      ]
    },
    {
      "cell_type": "code",
      "execution_count": null,
      "id": "WrFM0wGPz3L6",
      "metadata": {
        "colab": {
          "base_uri": "https://localhost:8080/"
        },
        "id": "WrFM0wGPz3L6",
        "outputId": "f374e6b1-aebd-446d-9c71-7b06e71a4e00"
      },
      "outputs": [
        {
          "name": "stdout",
          "output_type": "stream",
          "text": [
            "[1. 0. 0. 0. 2. 0. 0. 0. 3. 0. 0. 0. 4. 0. 0. 0. 5.]\n"
          ]
        }
      ],
      "source": [
        "arr1 = np.array([1, 2, 3, 4, 5])\n",
        "arr2 = np.zeros(len(f) + (len(arr1)-1)*(3))\n",
        "arr2[::4] = arr1\n",
        "\n",
        "print(arr2)"
      ]
    },
    {
      "cell_type": "markdown",
      "id": "a9a73d6b",
      "metadata": {
        "id": "a9a73d6b"
      },
      "source": [
        "#### 35. Рассмотрим массив размерности (5,5,3), как его умножить на массив размерностью (5,5)? (★★★)\n"
      ]
    },
    {
      "cell_type": "code",
      "execution_count": null,
      "id": "nAFw5d-A1wnY",
      "metadata": {
        "colab": {
          "base_uri": "https://localhost:8080/"
        },
        "id": "nAFw5d-A1wnY",
        "outputId": "3d71024a-45cb-49cd-92fe-cee59b43264d"
      },
      "outputs": [
        {
          "name": "stdout",
          "output_type": "stream",
          "text": [
            "Результат перемножения:  [[[0.37833117 0.72058048 0.5058954 ]\n",
            "  [0.94520992 0.29055934 0.39083212]\n",
            "  [0.4054008  0.04015807 0.35657019]\n",
            "  [0.09811    0.01716224 0.03254031]\n",
            "  [0.32621511 0.10373271 0.2865374 ]]\n",
            "\n",
            " [[0.32819376 0.40637671 0.37232904]\n",
            "  [0.15323207 0.13500912 0.2283486 ]\n",
            "  [0.34860155 0.02258587 0.42922414]\n",
            "  [0.33854787 0.30565145 0.45644935]\n",
            "  [0.05659627 0.21516476 0.03007972]]\n",
            "\n",
            " [[0.45950246 0.5055568  0.03258154]\n",
            "  [0.47545683 0.55622322 0.54613785]\n",
            "  [0.59123548 0.05715278 0.69942475]\n",
            "  [0.44491284 0.30342924 0.03374274]\n",
            "  [0.54798368 0.39785027 0.31379278]]\n",
            "\n",
            " [[0.12096019 0.30436996 0.559957  ]\n",
            "  [0.4277668  0.05839659 0.23806316]\n",
            "  [0.27194436 0.14928508 0.22297854]\n",
            "  [0.03767295 0.02805207 0.04354471]\n",
            "  [0.23279604 0.17350459 0.12357368]]\n",
            "\n",
            " [[0.01830377 0.1372769  0.02531709]\n",
            "  [0.30712958 0.07758505 0.29998101]\n",
            "  [0.16233117 0.08029239 0.07781932]\n",
            "  [0.37039156 0.26623329 0.35105568]\n",
            "  [0.26802623 0.14586127 0.09368324]]]\n"
          ]
        }
      ],
      "source": [
        "arr1 = np.random.random((5,5,3))\n",
        "arr2 = np.random.random((5,5))\n",
        "arr2 = arr2[:, :, np.newaxis] # дублирование на новую ось\n",
        "print(\"Результат перемножения: \", np.multiply(arr1, arr2))"
      ]
    },
    {
      "cell_type": "markdown",
      "id": "b50adf7c",
      "metadata": {
        "id": "b50adf7c"
      },
      "source": [
        "#### 36. Как вычислить средние значения, используя скользящее окно по массиву? (★★★)\n"
      ]
    },
    {
      "cell_type": "code",
      "execution_count": null,
      "id": "e631a9d2",
      "metadata": {
        "colab": {
          "base_uri": "https://localhost:8080/"
        },
        "id": "e631a9d2",
        "outputId": "6c9e0e37-f2aa-4518-9277-0871c2f8bcaf"
      },
      "outputs": [
        {
          "name": "stdout",
          "output_type": "stream",
          "text": [
            "[ 0.  1.  2.  3.  4.  5.  6.  7.  8.  9. 10. 11. 12. 13. 14. 15. 16. 17.\n",
            " 18. 19.]\n"
          ]
        }
      ],
      "source": [
        "def average(arr, winsize):\n",
        "    #print(winsize)\n",
        "    win = arr.shape[0] - winsize + 1\n",
        "    avg_arr = np.zeros(win)\n",
        "\n",
        "    for i in range(win):\n",
        "        window = arr[i:i+winsize]\n",
        "        avg_arr[i] = np.mean(window)\n",
        "\n",
        "    return avg_arr\n",
        "\n",
        "arr = np.arange(20)\n",
        "print(average(arr, np.random.randint(1,10, size = 1)[0]))"
      ]
    },
    {
      "cell_type": "markdown",
      "id": "1ab4c50d",
      "metadata": {
        "id": "1ab4c50d"
      },
      "source": [
        "#### 37. Рассмотрим одномерный массив Z, постройте из него двумерный массив, первая строка которого (Z[0],Z[1],Z[2]), а каждая последующая строка сдвинута на 1 (последняя строка должна быть (Z[ -3],Z[-2],Z[-1]) (★★★)\n"
      ]
    },
    {
      "cell_type": "code",
      "execution_count": null,
      "id": "3ccfe2c0",
      "metadata": {
        "colab": {
          "base_uri": "https://localhost:8080/"
        },
        "id": "3ccfe2c0",
        "outputId": "12ec3beb-5496-4341-b5a3-ed99b46e8526"
      },
      "outputs": [
        {
          "name": "stdout",
          "output_type": "stream",
          "text": [
            "[[1 2 3]\n",
            " [2 3 4]\n",
            " [3 4 5]\n",
            " [4 5 6]\n",
            " [5 6 7]\n",
            " [6 7 8]\n",
            " [7 8 9]]\n"
          ]
        }
      ],
      "source": [
        "def shift_array(Z):\n",
        "    n = Z.shape[0] - 2\n",
        "    arr = np.empty((n, 3), dtype=arr.dtype)\n",
        "    for i in range(n):\n",
        "        arr[i] = Z[i:i+3]\n",
        "    return arr\n",
        "\n",
        "Z = np.arange(1, 10)\n",
        "print(shift_array(arr))"
      ]
    },
    {
      "cell_type": "markdown",
      "id": "e5e7f323",
      "metadata": {
        "id": "e5e7f323"
      },
      "source": [
        "#### 38. Рассмотрим 2 набора точек P0,P1, описывающих линии (2d), и набор точек P. Как вычислить расстояние от каждой точки j (P[j]) до каждой линии i (P0[i],P1[i])?(★★★)\n"
      ]
    },
    {
      "cell_type": "code",
      "execution_count": null,
      "id": "d0ce77e2",
      "metadata": {
        "colab": {
          "base_uri": "https://localhost:8080/"
        },
        "id": "d0ce77e2",
        "outputId": "7b697ccb-1ead-4757-846e-2d97267098b9"
      },
      "outputs": [
        {
          "name": "stdout",
          "output_type": "stream",
          "text": [
            "[[3.79473319 2.97683363 4.25817748 4.11096096 2.23606798]\n",
            " [0.9486833  1.48841682 3.4340141  1.26491106 0.4472136 ]\n",
            " [2.84604989 3.72104204 2.33512959 3.16227766 2.23606798]\n",
            " [5.37587202 4.83735465 5.76914369 5.69209979 3.57770876]\n",
            " [1.8973666  4.21718098 2.60985072 2.21359436 1.34164079]]\n"
          ]
        }
      ],
      "source": [
        "P0 = np.random.randint(0, 10, (5,2))\n",
        "P1 = np.random.randint(0,10,(5,2))\n",
        "P = np.random.randint(0, 10, (5,2))\n",
        "\n",
        "diff_P0_P = P0 - P[:, np.newaxis, :]\n",
        "diff_P1_P = P1 - P[:, np.newaxis, :]\n",
        "\n",
        "\n",
        "len = np.linalg.norm(diff_P1_P - diff_P0_P, axis=2)\n",
        "\n",
        "area = np.cross(diff_P0_P, diff_P1_P, axis=2)\n",
        "dist = np.abs(area) / len\n",
        "\n",
        "print(dist)"
      ]
    },
    {
      "cell_type": "markdown",
      "id": "27794913",
      "metadata": {
        "id": "27794913"
      },
      "source": [
        "#### 39. Рассмотрим массив Z = [1,2,3,4,5,6,7,8,9,10,11,12,13,14], как сгенерировать массив R = [[1,2,3, 4], [2,3,4,5], [3,4,5,6], ..., [11,12,13,14]]? (★★★)\n"
      ]
    },
    {
      "cell_type": "code",
      "execution_count": null,
      "id": "f3e7878b",
      "metadata": {
        "colab": {
          "base_uri": "https://localhost:8080/"
        },
        "id": "f3e7878b",
        "outputId": "6f42b816-733b-4675-82c9-6241df4c9c47"
      },
      "outputs": [
        {
          "data": {
            "text/plain": [
              "array([[ 1,  2,  3,  4],\n",
              "       [ 2,  3,  4,  5],\n",
              "       [ 3,  4,  5,  6],\n",
              "       [ 4,  5,  6,  7],\n",
              "       [ 5,  6,  7,  8],\n",
              "       [ 6,  7,  8,  9],\n",
              "       [ 7,  8,  9, 10],\n",
              "       [ 8,  9, 10, 11],\n",
              "       [ 9, 10, 11, 12],\n",
              "       [10, 11, 12, 13],\n",
              "       [11, 12, 13, 14]])"
            ]
          },
          "execution_count": 139,
          "metadata": {},
          "output_type": "execute_result"
        }
      ],
      "source": [
        "Z = [1,2,3,4,5,6,7,8,9,10,11,12,13,14]\n",
        "np.reshape([Z[i:i+4] for i in range(11)], (11, 4))"
      ]
    },
    {
      "cell_type": "markdown",
      "id": "fae786f5",
      "metadata": {
        "id": "fae786f5"
      },
      "source": [
        "#### 40. Найдите ранг случайной матрицы (★★★)\n"
      ]
    },
    {
      "cell_type": "code",
      "execution_count": null,
      "id": "64b9615b",
      "metadata": {
        "colab": {
          "base_uri": "https://localhost:8080/"
        },
        "id": "64b9615b",
        "outputId": "311151b6-8178-4fa7-ae58-0962ef647154"
      },
      "outputs": [
        {
          "name": "stdout",
          "output_type": "stream",
          "text": [
            "[[0 8 6 6 7 0 3 0]\n",
            " [9 6 3 5 0 1 7 9]\n",
            " [4 4 1 6 7 8 4 7]\n",
            " [3 8 5 7 7 4 9 1]\n",
            " [4 8 0 9 9 3 8 3]\n",
            " [7 7 7 2 1 5 9 8]\n",
            " [7 5 6 6 4 8 0 0]]\n",
            "Ранг этой матрицы: 7\n"
          ]
        }
      ],
      "source": [
        "arr = np.random.randint(0, 10, size=(np.random.randint(4,10, size = 2)))\n",
        "print(arr)\n",
        "print(\"Ранг этой матрицы:\", np.linalg.matrix_rank(arr))"
      ]
    },
    {
      "cell_type": "markdown",
      "id": "c85aa0b9",
      "metadata": {
        "id": "c85aa0b9"
      },
      "source": [
        "#### 41. Как найти наиболее часто встречающееся значение в массиве?\n"
      ]
    },
    {
      "cell_type": "code",
      "execution_count": null,
      "id": "056be85b",
      "metadata": {
        "colab": {
          "base_uri": "https://localhost:8080/"
        },
        "id": "056be85b",
        "outputId": "56ccb881-8aaf-47bc-ee66-08a0f9f80160"
      },
      "outputs": [
        {
          "name": "stdout",
          "output_type": "stream",
          "text": [
            "Сгенерированный массив: [4 7 8 4 6 6 4 1 4 4 1 2 1 0 2 4 1 7 1 7]\n",
            "Пары значение: количесво: {0: 1, 1: 5, 2: 2, 4: 6, 6: 2, 7: 3, 8: 1}\n",
            "Наиболее часто встречающиеся элементы:\n",
            "4\n"
          ]
        }
      ],
      "source": [
        "arr = np.random.randint(0,10,size = 20)\n",
        "print(\"Сгенерированный массив:\", arr)\n",
        "\n",
        "unique, counts = np.unique(arr, return_counts=True)\n",
        "k_v = dict(zip(unique, counts))\n",
        "\n",
        "print(\"Пары значение: количесво:\", k_v )\n",
        "max_count = counts.max()\n",
        "\n",
        "print(\"Наиболее часто встречающиеся элементы:\")\n",
        "for k, v in k_v.items():\n",
        "    if v == max_count:\n",
        "        print(k)"
      ]
    },
    {
      "cell_type": "markdown",
      "id": "d614fee4",
      "metadata": {
        "id": "d614fee4"
      },
      "source": [
        "#### 42. Рассмотрим два массива A и B формы (8,3) и (2,2). Как найти строки A, содержащие элементы каждой строки B, независимо от порядка элементов в B? (★★★)\n"
      ]
    },
    {
      "cell_type": "code",
      "execution_count": null,
      "id": "e6807a84",
      "metadata": {
        "id": "e6807a84"
      },
      "outputs": [],
      "source": [
        "A = np.random.randint(0,5,(8,3))\n",
        "B = np.random.randint(0,5,(2,2))\n",
        "print(\"Массив A:\")\n",
        "print(A)\n",
        "print(\"Массив B:\\n\")\n",
        "print(B)\n",
        "\n",
        "c = []\n",
        "\n",
        "for row_b in B:\n",
        "    for row_a in A:\n",
        "        if np.all(np.isin(row_b, row_a)) and not any(np.array_equal(row_a, row) for row in c):\n",
        "            c.append(row_a)\n",
        "\n",
        "c = np.array(c)\n",
        "\n",
        "print(\"\\nМассив c:\")\n",
        "print(c)"
      ]
    },
    {
      "cell_type": "code",
      "execution_count": null,
      "id": "8nl4lFwYZjLi",
      "metadata": {
        "id": "8nl4lFwYZjLi"
      },
      "outputs": [],
      "source": [
        "A = np.random.randint(0,5,(8,3))\n",
        "B= np.random.randint(0,5,(2,2))\n",
        "print(\"Массив A:\")\n",
        "print(A)\n",
        "print(\"\\nМассив B:\")\n",
        "print(B)\n",
        "\n",
        "c = []\n",
        "unique_rows = set()\n",
        "\n",
        "for row_b in B:\n",
        "    for row_a in A:\n",
        "        if np.all(np.isin(row_b, row_a)) and tuple(row_a) not in unique_rows:\n",
        "            c.append(row_a)\n",
        "            unique_rows.add(tuple(row_a))\n",
        "\n",
        "c = np.array(c)\n",
        "\n",
        "print(\"\\nМассив c:\")\n",
        "print(c)"
      ]
    },
    {
      "cell_type": "markdown",
      "id": "75b9397f",
      "metadata": {
        "id": "75b9397f"
      },
      "source": [
        "#### 43. Как извлечь уникальные значения из 2-х двумерных массивов?(★★★)\n"
      ]
    },
    {
      "cell_type": "code",
      "execution_count": null,
      "id": "9bb56a47",
      "metadata": {
        "colab": {
          "base_uri": "https://localhost:8080/"
        },
        "id": "9bb56a47",
        "outputId": "4054b4fb-c69f-40ae-b0c6-886baec71d82"
      },
      "outputs": [
        {
          "name": "stdout",
          "output_type": "stream",
          "text": [
            "[[9 3 3]\n",
            " [6 0 1]\n",
            " [3 7 4]\n",
            " [3 2 9]\n",
            " [5 5 9]\n",
            " [7 3 6]]\n",
            "Пары значение: количесво: {0: 1, 1: 1, 2: 1, 3: 5, 4: 1, 5: 2, 6: 2, 7: 2, 9: 3}\n",
            "Уникальные значения:\n",
            "0\n",
            "1\n",
            "2\n",
            "4\n"
          ]
        }
      ],
      "source": [
        "arr1 = np.random.randint(0,10,(3,3))\n",
        "#print(arr1)\n",
        "arr2 = np.random.randint(0,10,(3,3))\n",
        "#print(arr2)\n",
        "\n",
        "arr = np.concatenate((arr1, arr2))\n",
        "print(arr)\n",
        "\n",
        "unique, counts = np.unique(arr, return_counts=True)\n",
        "k_v = dict(zip(unique, counts))\n",
        "\n",
        "print(\"Пары значение: количесво:\", k_v )\n",
        "print(\"Уникальные значения:\")\n",
        "for k, v in k_v.items():\n",
        "    if v == 1:\n",
        "        print(k)"
      ]
    }
  ],
  "metadata": {
    "colab": {
      "provenance": []
    },
    "gpuClass": "standard",
    "kernelspec": {
      "display_name": "Python 3",
      "name": "python3"
    },
    "language_info": {
      "name": "python"
    }
  },
  "nbformat": 4,
  "nbformat_minor": 5
}
