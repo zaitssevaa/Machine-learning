{
  "cells": [
    {
      "cell_type": "markdown",
      "source": [
        "# Применение ResNet для распознавания людей в медицинской маске и без неее"
      ],
      "metadata": {
        "id": "xkJUY3xRnXVw"
      }
    },
    {
      "cell_type": "code",
      "execution_count": null,
      "metadata": {
        "id": "Vf_hdx-yzyOQ"
      },
      "outputs": [],
      "source": [
        "import os\n",
        "import tensorflow as tf\n",
        "from tensorflow.keras.preprocessing.image import ImageDataGenerator\n",
        "from tensorflow.keras.applications import ResNet50\n",
        "from tensorflow.keras.layers import Dense, GlobalAveragePooling2D\n",
        "from tensorflow.keras.models import Model\n",
        "from tensorflow.keras.optimizers import Adam"
      ]
    },
    {
      "cell_type": "code",
      "execution_count": null,
      "metadata": {
        "colab": {
          "background_save": true,
          "base_uri": "https://localhost:8080/"
        },
        "collapsed": true,
        "id": "2OnEMbaG6pQW",
        "outputId": "efeb5810-a132-4baf-8dc0-07f436f3e4b6"
      },
      "outputs": [
        {
          "name": "stdout",
          "output_type": "stream",
          "text": [
            "Dataset URL: https://www.kaggle.com/datasets/ashishjangra27/face-mask-12k-images-dataset\n",
            "License(s): CC0-1.0\n",
            "Downloading face-mask-12k-images-dataset.zip to /content\n",
            " 98% 324M/330M [00:02<00:00, 98.7MB/s]\n",
            "100% 330M/330M [00:02<00:00, 123MB/s] \n",
            "Archive:  face-mask-12k-images-dataset.zip\n",
            "replace Face Mask Dataset/Test/WithMask/1163.png? [y]es, [n]o, [A]ll, [N]one, [r]ename: "
          ]
        }
      ],
      "source": [
        "from google.colab import files\n",
        "# Скачайте датасет с Kaggle\n",
        "!kaggle datasets download -d ashishjangra27/face-mask-12k-images-dataset\n",
        "# Распакуйте скачанный архив\n",
        "!unzip face-mask-12k-images-dataset.zip"
      ]
    },
    {
      "cell_type": "code",
      "execution_count": null,
      "metadata": {
        "colab": {
          "base_uri": "https://localhost:8080/"
        },
        "id": "0A9vl96J0Np9",
        "outputId": "37dda463-eef9-40f7-c771-63b3ed6a7e74"
      },
      "outputs": [
        {
          "output_type": "stream",
          "name": "stdout",
          "text": [
            "Found 8000 images belonging to 2 classes.\n",
            "Found 2000 images belonging to 2 classes.\n"
          ]
        }
      ],
      "source": [
        "# Путь к распакованному датасету\n",
        "dataset_path = 'Face Mask Dataset/'\n",
        "\n",
        "# для увеличения данных и разделения на обучающую и валидационную выборки.\n",
        "train_datagen = ImageDataGenerator(\n",
        "    rescale=1./255,\n",
        "    shear_range=0.2,\n",
        "    zoom_range=0.2,\n",
        "    horizontal_flip=True,\n",
        "    validation_split=0.2)\n",
        "\n",
        "# train_generator validation_generator  для аугментации можно не использовать\n",
        "train_generator = train_datagen.flow_from_directory(\n",
        "    os.path.join(dataset_path, 'Train'),\n",
        "    target_size=(224, 224),\n",
        "    batch_size=32,\n",
        "    class_mode='binary',\n",
        "    subset='training')\n",
        "\n",
        "validation_generator = train_datagen.flow_from_directory(\n",
        "    os.path.join(dataset_path, 'Train'),\n",
        "    target_size=(224, 224),\n",
        "    batch_size=32,\n",
        "    class_mode='binary',\n",
        "    subset='validation')\n"
      ]
    },
    {
      "cell_type": "code",
      "execution_count": null,
      "metadata": {
        "id": "uDIoLZu_1Fzf"
      },
      "outputs": [],
      "source": [
        "# Загрузка предобученной модели ResNet50 без верхних слоев\n",
        "base_model = ResNet50(weights='imagenet', include_top=False, input_shape=(224, 224, 3))\n",
        "\n",
        "# Добавление нового выходного слоя\n",
        "x = base_model.output\n",
        "x = GlobalAveragePooling2D()(x)\n",
        "predictions = Dense(1, activation='sigmoid')(x)\n",
        "\n",
        "model = Model(inputs=base_model.input, outputs=predictions)\n",
        "\n",
        "# Замораживание начальных слоев модели ResNet50\n",
        "for layer in base_model.layers:\n",
        "    layer.trainable = False\n",
        "\n",
        "model.compile(optimizer=Adam(learning_rate=0.001), loss='binary_crossentropy', metrics=['accuracy'])"
      ]
    },
    {
      "cell_type": "code",
      "execution_count": null,
      "metadata": {
        "colab": {
          "base_uri": "https://localhost:8080/"
        },
        "id": "A97J4-nU3f-x",
        "outputId": "15583854-0b2a-4ce4-e0d9-98a21488d148"
      },
      "outputs": [
        {
          "output_type": "stream",
          "name": "stdout",
          "text": [
            "Epoch 1/10\n",
            "250/250 [==============================] - 150s 588ms/step - loss: 0.6653 - accuracy: 0.5890 - val_loss: 0.6418 - val_accuracy: 0.6522\n",
            "Epoch 2/10\n",
            "250/250 [==============================] - 145s 580ms/step - loss: 0.6312 - accuracy: 0.6526 - val_loss: 0.6173 - val_accuracy: 0.6885\n",
            "Epoch 3/10\n",
            "250/250 [==============================] - 145s 581ms/step - loss: 0.6088 - accuracy: 0.6848 - val_loss: 0.6005 - val_accuracy: 0.7117\n",
            "Epoch 4/10\n",
            "250/250 [==============================] - 130s 519ms/step - loss: 0.5945 - accuracy: 0.7004 - val_loss: 0.5898 - val_accuracy: 0.6966\n",
            "Epoch 5/10\n",
            "250/250 [==============================] - 145s 581ms/step - loss: 0.5825 - accuracy: 0.7055 - val_loss: 0.5767 - val_accuracy: 0.7132\n",
            "Epoch 6/10\n",
            "250/250 [==============================] - 129s 516ms/step - loss: 0.5702 - accuracy: 0.7203 - val_loss: 0.5718 - val_accuracy: 0.7550\n",
            "Epoch 7/10\n",
            "250/250 [==============================] - 147s 587ms/step - loss: 0.5583 - accuracy: 0.7376 - val_loss: 0.5645 - val_accuracy: 0.7107\n",
            "Epoch 8/10\n",
            "250/250 [==============================] - 130s 522ms/step - loss: 0.5480 - accuracy: 0.7495 - val_loss: 0.5590 - val_accuracy: 0.7046\n",
            "Epoch 9/10\n",
            "250/250 [==============================] - 146s 583ms/step - loss: 0.5409 - accuracy: 0.7571 - val_loss: 0.5357 - val_accuracy: 0.7591\n",
            "Epoch 10/10\n",
            "250/250 [==============================] - 148s 592ms/step - loss: 0.5333 - accuracy: 0.7642 - val_loss: 0.5301 - val_accuracy: 0.8004\n"
          ]
        }
      ],
      "source": [
        "# Обучение модели\n",
        "history = model.fit(\n",
        "    train_generator,\n",
        "    steps_per_epoch=train_generator.samples // train_generator.batch_size,\n",
        "    validation_data=validation_generator,\n",
        "    validation_steps=validation_generator.samples // validation_generator.batch_size,\n",
        "    epochs = 10)\n"
      ]
    },
    {
      "cell_type": "code",
      "execution_count": null,
      "metadata": {
        "id": "jIxxigc_4UEq",
        "colab": {
          "base_uri": "https://localhost:8080/"
        },
        "outputId": "4af928b4-c4fd-49a2-9ce6-dd0f03b6b104"
      },
      "outputs": [
        {
          "output_type": "stream",
          "name": "stdout",
          "text": [
            "63/63 [==============================] - 27s 420ms/step - loss: 0.5302 - accuracy: 0.7945\n",
            "Loss: 0.5301723480224609\n",
            "Accuracy: 0.7944999933242798\n"
          ]
        }
      ],
      "source": [
        "# Оценка модели\n",
        "loss, accuracy = model.evaluate(validation_generator)\n",
        "print(f'Loss: {loss}')\n",
        "print(f'Accuracy: {accuracy}')"
      ]
    }
  ],
  "metadata": {
    "accelerator": "GPU",
    "colab": {
      "gpuType": "T4",
      "provenance": []
    },
    "kernelspec": {
      "display_name": "Python 3",
      "name": "python3"
    },
    "language_info": {
      "name": "python"
    }
  },
  "nbformat": 4,
  "nbformat_minor": 0
}